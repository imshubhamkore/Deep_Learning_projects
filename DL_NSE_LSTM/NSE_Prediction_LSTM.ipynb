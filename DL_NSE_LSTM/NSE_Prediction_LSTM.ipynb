{
  "nbformat": 4,
  "nbformat_minor": 0,
  "metadata": {
    "colab": {
      "provenance": []
    },
    "kernelspec": {
      "name": "python3",
      "display_name": "Python 3"
    },
    "language_info": {
      "name": "python"
    }
  },
  "cells": [
    {
      "cell_type": "markdown",
      "source": [
        "# NSE Stocks Data\n",
        "\n",
        "**Daily data of National Stock Exchange of India for all series.** <br>\n",
        "\n",
        "A brief description of columns.<br>\n",
        "**SYMBOL**: Symbol of the listed company. <br>\n",
        "**SERIES**: Series of the equity. Values are [EQ, BE, BL, BT, GC and IL] <br>\n",
        "**OPEN**: The opening market price of the equity symbol on the date. <br>\n",
        "**HIGH**: The highest market price of the equity symbol on the date. <br>\n",
        "**LOW**: The lowest recorded market price of the equity symbol on the date. <br>\n",
        "**CLOSE**: The closing recorded price of the equity symbol on the date. <br>\n",
        "**LAST**: The last traded price of the equity symbol on the date. <br>\n",
        "**PREVCLOSE**: The previous day closing price of the equity symbol on the date. <br>\n",
        "**TOTTRDQTY**: Total traded quantity of the equity symbol on the date. <br>\n",
        "**TOTTRDVAL**: Total traded volume of the equity symbol on the date. <br>\n",
        "**TIMESTAMP**: Date of record. <br>\n",
        "**TOTALTRADES**: Total trades executed on the day. <br>\n",
        "**ISIN**: International Securities Identification Number. <br>"
      ],
      "metadata": {
        "id": "vt7niv68kIBY"
      }
    },
    {
      "cell_type": "code",
      "source": [
        "#import libraries\n",
        "import pandas as pd\n",
        "import numpy as np\n",
        "import tensorflow as tf\n",
        "from sklearn.preprocessing import MinMaxScaler\n",
        "from sklearn.metrics import mean_squared_error, r2_score, accuracy_score\n",
        "from tensorflow.keras.callbacks import ReduceLROnPlateau, EarlyStopping\n",
        "import matplotlib.pyplot as plt\n",
        "import seaborn as sns"
      ],
      "metadata": {
        "id": "kT7QqQnckL44"
      },
      "execution_count": 103,
      "outputs": []
    },
    {
      "cell_type": "code",
      "source": [
        "#Load Data\n",
        "data=pd.read_csv('FINAL_FROM_DF.csv')\n",
        "data.head()"
      ],
      "metadata": {
        "colab": {
          "base_uri": "https://localhost:8080/",
          "height": 206
        },
        "id": "udnqeKfdkSTk",
        "outputId": "ce5b8db4-3859-4a3b-a6a8-a6d5b96fb9cb"
      },
      "execution_count": 104,
      "outputs": [
        {
          "output_type": "execute_result",
          "data": {
            "text/plain": [
              "       SYMBOL SERIES      OPEN      HIGH       LOW     CLOSE      LAST  \\\n",
              "0   20MICRONS     EQ     37.80     37.80     36.15     36.85     37.40   \n",
              "1  3IINFOTECH     EQ      4.10      4.85      4.00      4.55      4.65   \n",
              "2     3MINDIA     EQ  13425.15  13469.55  12920.00  13266.70  13300.00   \n",
              "3     63MOONS     EQ     61.00     61.90     60.35     61.00     61.10   \n",
              "4     8KMILES     EQ    546.10    548.00    535.00    537.45    535.20   \n",
              "\n",
              "   PREVCLOSE  TOTTRDQTY    TOTTRDVAL   TIMESTAMP  TOTALTRADES          ISIN  \n",
              "0      37.05      27130    994657.90  2017-06-28          202  INE144J01027  \n",
              "1       4.05   20157058  92148517.65  2017-06-28         7353  INE748C01020  \n",
              "2   13460.55       2290  30304923.35  2017-06-28          748  INE470A01017  \n",
              "3      60.65      27701   1689421.00  2017-06-28          437  INE111B01023  \n",
              "4     547.45      79722  43208620.05  2017-06-28         1866  INE650K01021  "
            ],
            "text/html": [
              "\n",
              "  <div id=\"df-fb40e882-06c8-46d2-95de-03af3d42b3ed\" class=\"colab-df-container\">\n",
              "    <div>\n",
              "<style scoped>\n",
              "    .dataframe tbody tr th:only-of-type {\n",
              "        vertical-align: middle;\n",
              "    }\n",
              "\n",
              "    .dataframe tbody tr th {\n",
              "        vertical-align: top;\n",
              "    }\n",
              "\n",
              "    .dataframe thead th {\n",
              "        text-align: right;\n",
              "    }\n",
              "</style>\n",
              "<table border=\"1\" class=\"dataframe\">\n",
              "  <thead>\n",
              "    <tr style=\"text-align: right;\">\n",
              "      <th></th>\n",
              "      <th>SYMBOL</th>\n",
              "      <th>SERIES</th>\n",
              "      <th>OPEN</th>\n",
              "      <th>HIGH</th>\n",
              "      <th>LOW</th>\n",
              "      <th>CLOSE</th>\n",
              "      <th>LAST</th>\n",
              "      <th>PREVCLOSE</th>\n",
              "      <th>TOTTRDQTY</th>\n",
              "      <th>TOTTRDVAL</th>\n",
              "      <th>TIMESTAMP</th>\n",
              "      <th>TOTALTRADES</th>\n",
              "      <th>ISIN</th>\n",
              "    </tr>\n",
              "  </thead>\n",
              "  <tbody>\n",
              "    <tr>\n",
              "      <th>0</th>\n",
              "      <td>20MICRONS</td>\n",
              "      <td>EQ</td>\n",
              "      <td>37.80</td>\n",
              "      <td>37.80</td>\n",
              "      <td>36.15</td>\n",
              "      <td>36.85</td>\n",
              "      <td>37.40</td>\n",
              "      <td>37.05</td>\n",
              "      <td>27130</td>\n",
              "      <td>994657.90</td>\n",
              "      <td>2017-06-28</td>\n",
              "      <td>202</td>\n",
              "      <td>INE144J01027</td>\n",
              "    </tr>\n",
              "    <tr>\n",
              "      <th>1</th>\n",
              "      <td>3IINFOTECH</td>\n",
              "      <td>EQ</td>\n",
              "      <td>4.10</td>\n",
              "      <td>4.85</td>\n",
              "      <td>4.00</td>\n",
              "      <td>4.55</td>\n",
              "      <td>4.65</td>\n",
              "      <td>4.05</td>\n",
              "      <td>20157058</td>\n",
              "      <td>92148517.65</td>\n",
              "      <td>2017-06-28</td>\n",
              "      <td>7353</td>\n",
              "      <td>INE748C01020</td>\n",
              "    </tr>\n",
              "    <tr>\n",
              "      <th>2</th>\n",
              "      <td>3MINDIA</td>\n",
              "      <td>EQ</td>\n",
              "      <td>13425.15</td>\n",
              "      <td>13469.55</td>\n",
              "      <td>12920.00</td>\n",
              "      <td>13266.70</td>\n",
              "      <td>13300.00</td>\n",
              "      <td>13460.55</td>\n",
              "      <td>2290</td>\n",
              "      <td>30304923.35</td>\n",
              "      <td>2017-06-28</td>\n",
              "      <td>748</td>\n",
              "      <td>INE470A01017</td>\n",
              "    </tr>\n",
              "    <tr>\n",
              "      <th>3</th>\n",
              "      <td>63MOONS</td>\n",
              "      <td>EQ</td>\n",
              "      <td>61.00</td>\n",
              "      <td>61.90</td>\n",
              "      <td>60.35</td>\n",
              "      <td>61.00</td>\n",
              "      <td>61.10</td>\n",
              "      <td>60.65</td>\n",
              "      <td>27701</td>\n",
              "      <td>1689421.00</td>\n",
              "      <td>2017-06-28</td>\n",
              "      <td>437</td>\n",
              "      <td>INE111B01023</td>\n",
              "    </tr>\n",
              "    <tr>\n",
              "      <th>4</th>\n",
              "      <td>8KMILES</td>\n",
              "      <td>EQ</td>\n",
              "      <td>546.10</td>\n",
              "      <td>548.00</td>\n",
              "      <td>535.00</td>\n",
              "      <td>537.45</td>\n",
              "      <td>535.20</td>\n",
              "      <td>547.45</td>\n",
              "      <td>79722</td>\n",
              "      <td>43208620.05</td>\n",
              "      <td>2017-06-28</td>\n",
              "      <td>1866</td>\n",
              "      <td>INE650K01021</td>\n",
              "    </tr>\n",
              "  </tbody>\n",
              "</table>\n",
              "</div>\n",
              "    <div class=\"colab-df-buttons\">\n",
              "\n",
              "  <div class=\"colab-df-container\">\n",
              "    <button class=\"colab-df-convert\" onclick=\"convertToInteractive('df-fb40e882-06c8-46d2-95de-03af3d42b3ed')\"\n",
              "            title=\"Convert this dataframe to an interactive table.\"\n",
              "            style=\"display:none;\">\n",
              "\n",
              "  <svg xmlns=\"http://www.w3.org/2000/svg\" height=\"24px\" viewBox=\"0 -960 960 960\">\n",
              "    <path d=\"M120-120v-720h720v720H120Zm60-500h600v-160H180v160Zm220 220h160v-160H400v160Zm0 220h160v-160H400v160ZM180-400h160v-160H180v160Zm440 0h160v-160H620v160ZM180-180h160v-160H180v160Zm440 0h160v-160H620v160Z\"/>\n",
              "  </svg>\n",
              "    </button>\n",
              "\n",
              "  <style>\n",
              "    .colab-df-container {\n",
              "      display:flex;\n",
              "      gap: 12px;\n",
              "    }\n",
              "\n",
              "    .colab-df-convert {\n",
              "      background-color: #E8F0FE;\n",
              "      border: none;\n",
              "      border-radius: 50%;\n",
              "      cursor: pointer;\n",
              "      display: none;\n",
              "      fill: #1967D2;\n",
              "      height: 32px;\n",
              "      padding: 0 0 0 0;\n",
              "      width: 32px;\n",
              "    }\n",
              "\n",
              "    .colab-df-convert:hover {\n",
              "      background-color: #E2EBFA;\n",
              "      box-shadow: 0px 1px 2px rgba(60, 64, 67, 0.3), 0px 1px 3px 1px rgba(60, 64, 67, 0.15);\n",
              "      fill: #174EA6;\n",
              "    }\n",
              "\n",
              "    .colab-df-buttons div {\n",
              "      margin-bottom: 4px;\n",
              "    }\n",
              "\n",
              "    [theme=dark] .colab-df-convert {\n",
              "      background-color: #3B4455;\n",
              "      fill: #D2E3FC;\n",
              "    }\n",
              "\n",
              "    [theme=dark] .colab-df-convert:hover {\n",
              "      background-color: #434B5C;\n",
              "      box-shadow: 0px 1px 3px 1px rgba(0, 0, 0, 0.15);\n",
              "      filter: drop-shadow(0px 1px 2px rgba(0, 0, 0, 0.3));\n",
              "      fill: #FFFFFF;\n",
              "    }\n",
              "  </style>\n",
              "\n",
              "    <script>\n",
              "      const buttonEl =\n",
              "        document.querySelector('#df-fb40e882-06c8-46d2-95de-03af3d42b3ed button.colab-df-convert');\n",
              "      buttonEl.style.display =\n",
              "        google.colab.kernel.accessAllowed ? 'block' : 'none';\n",
              "\n",
              "      async function convertToInteractive(key) {\n",
              "        const element = document.querySelector('#df-fb40e882-06c8-46d2-95de-03af3d42b3ed');\n",
              "        const dataTable =\n",
              "          await google.colab.kernel.invokeFunction('convertToInteractive',\n",
              "                                                    [key], {});\n",
              "        if (!dataTable) return;\n",
              "\n",
              "        const docLinkHtml = 'Like what you see? Visit the ' +\n",
              "          '<a target=\"_blank\" href=https://colab.research.google.com/notebooks/data_table.ipynb>data table notebook</a>'\n",
              "          + ' to learn more about interactive tables.';\n",
              "        element.innerHTML = '';\n",
              "        dataTable['output_type'] = 'display_data';\n",
              "        await google.colab.output.renderOutput(dataTable, element);\n",
              "        const docLink = document.createElement('div');\n",
              "        docLink.innerHTML = docLinkHtml;\n",
              "        element.appendChild(docLink);\n",
              "      }\n",
              "    </script>\n",
              "  </div>\n",
              "\n",
              "\n",
              "<div id=\"df-4f369c62-e3f8-4a37-95ed-3b7f754eb726\">\n",
              "  <button class=\"colab-df-quickchart\" onclick=\"quickchart('df-4f369c62-e3f8-4a37-95ed-3b7f754eb726')\"\n",
              "            title=\"Suggest charts\"\n",
              "            style=\"display:none;\">\n",
              "\n",
              "<svg xmlns=\"http://www.w3.org/2000/svg\" height=\"24px\"viewBox=\"0 0 24 24\"\n",
              "     width=\"24px\">\n",
              "    <g>\n",
              "        <path d=\"M19 3H5c-1.1 0-2 .9-2 2v14c0 1.1.9 2 2 2h14c1.1 0 2-.9 2-2V5c0-1.1-.9-2-2-2zM9 17H7v-7h2v7zm4 0h-2V7h2v10zm4 0h-2v-4h2v4z\"/>\n",
              "    </g>\n",
              "</svg>\n",
              "  </button>\n",
              "\n",
              "<style>\n",
              "  .colab-df-quickchart {\n",
              "      --bg-color: #E8F0FE;\n",
              "      --fill-color: #1967D2;\n",
              "      --hover-bg-color: #E2EBFA;\n",
              "      --hover-fill-color: #174EA6;\n",
              "      --disabled-fill-color: #AAA;\n",
              "      --disabled-bg-color: #DDD;\n",
              "  }\n",
              "\n",
              "  [theme=dark] .colab-df-quickchart {\n",
              "      --bg-color: #3B4455;\n",
              "      --fill-color: #D2E3FC;\n",
              "      --hover-bg-color: #434B5C;\n",
              "      --hover-fill-color: #FFFFFF;\n",
              "      --disabled-bg-color: #3B4455;\n",
              "      --disabled-fill-color: #666;\n",
              "  }\n",
              "\n",
              "  .colab-df-quickchart {\n",
              "    background-color: var(--bg-color);\n",
              "    border: none;\n",
              "    border-radius: 50%;\n",
              "    cursor: pointer;\n",
              "    display: none;\n",
              "    fill: var(--fill-color);\n",
              "    height: 32px;\n",
              "    padding: 0;\n",
              "    width: 32px;\n",
              "  }\n",
              "\n",
              "  .colab-df-quickchart:hover {\n",
              "    background-color: var(--hover-bg-color);\n",
              "    box-shadow: 0 1px 2px rgba(60, 64, 67, 0.3), 0 1px 3px 1px rgba(60, 64, 67, 0.15);\n",
              "    fill: var(--button-hover-fill-color);\n",
              "  }\n",
              "\n",
              "  .colab-df-quickchart-complete:disabled,\n",
              "  .colab-df-quickchart-complete:disabled:hover {\n",
              "    background-color: var(--disabled-bg-color);\n",
              "    fill: var(--disabled-fill-color);\n",
              "    box-shadow: none;\n",
              "  }\n",
              "\n",
              "  .colab-df-spinner {\n",
              "    border: 2px solid var(--fill-color);\n",
              "    border-color: transparent;\n",
              "    border-bottom-color: var(--fill-color);\n",
              "    animation:\n",
              "      spin 1s steps(1) infinite;\n",
              "  }\n",
              "\n",
              "  @keyframes spin {\n",
              "    0% {\n",
              "      border-color: transparent;\n",
              "      border-bottom-color: var(--fill-color);\n",
              "      border-left-color: var(--fill-color);\n",
              "    }\n",
              "    20% {\n",
              "      border-color: transparent;\n",
              "      border-left-color: var(--fill-color);\n",
              "      border-top-color: var(--fill-color);\n",
              "    }\n",
              "    30% {\n",
              "      border-color: transparent;\n",
              "      border-left-color: var(--fill-color);\n",
              "      border-top-color: var(--fill-color);\n",
              "      border-right-color: var(--fill-color);\n",
              "    }\n",
              "    40% {\n",
              "      border-color: transparent;\n",
              "      border-right-color: var(--fill-color);\n",
              "      border-top-color: var(--fill-color);\n",
              "    }\n",
              "    60% {\n",
              "      border-color: transparent;\n",
              "      border-right-color: var(--fill-color);\n",
              "    }\n",
              "    80% {\n",
              "      border-color: transparent;\n",
              "      border-right-color: var(--fill-color);\n",
              "      border-bottom-color: var(--fill-color);\n",
              "    }\n",
              "    90% {\n",
              "      border-color: transparent;\n",
              "      border-bottom-color: var(--fill-color);\n",
              "    }\n",
              "  }\n",
              "</style>\n",
              "\n",
              "  <script>\n",
              "    async function quickchart(key) {\n",
              "      const quickchartButtonEl =\n",
              "        document.querySelector('#' + key + ' button');\n",
              "      quickchartButtonEl.disabled = true;  // To prevent multiple clicks.\n",
              "      quickchartButtonEl.classList.add('colab-df-spinner');\n",
              "      try {\n",
              "        const charts = await google.colab.kernel.invokeFunction(\n",
              "            'suggestCharts', [key], {});\n",
              "      } catch (error) {\n",
              "        console.error('Error during call to suggestCharts:', error);\n",
              "      }\n",
              "      quickchartButtonEl.classList.remove('colab-df-spinner');\n",
              "      quickchartButtonEl.classList.add('colab-df-quickchart-complete');\n",
              "    }\n",
              "    (() => {\n",
              "      let quickchartButtonEl =\n",
              "        document.querySelector('#df-4f369c62-e3f8-4a37-95ed-3b7f754eb726 button');\n",
              "      quickchartButtonEl.style.display =\n",
              "        google.colab.kernel.accessAllowed ? 'block' : 'none';\n",
              "    })();\n",
              "  </script>\n",
              "</div>\n",
              "\n",
              "    </div>\n",
              "  </div>\n"
            ],
            "application/vnd.google.colaboratory.intrinsic+json": {
              "type": "dataframe",
              "variable_name": "data"
            }
          },
          "metadata": {},
          "execution_count": 104
        }
      ]
    },
    {
      "cell_type": "markdown",
      "source": [
        "## Analysing & Preprocessing"
      ],
      "metadata": {
        "id": "UA-579yFMVA-"
      }
    },
    {
      "cell_type": "code",
      "source": [
        "data.info()"
      ],
      "metadata": {
        "colab": {
          "base_uri": "https://localhost:8080/"
        },
        "collapsed": true,
        "id": "ZHCrdzZ7kwaF",
        "outputId": "9c829490-d8c3-43d9-8676-b9cdc4224686"
      },
      "execution_count": 105,
      "outputs": [
        {
          "output_type": "stream",
          "name": "stdout",
          "text": [
            "<class 'pandas.core.frame.DataFrame'>\n",
            "RangeIndex: 846404 entries, 0 to 846403\n",
            "Data columns (total 13 columns):\n",
            " #   Column       Non-Null Count   Dtype  \n",
            "---  ------       --------------   -----  \n",
            " 0   SYMBOL       846404 non-null  object \n",
            " 1   SERIES       843947 non-null  object \n",
            " 2   OPEN         846404 non-null  float64\n",
            " 3   HIGH         846404 non-null  float64\n",
            " 4   LOW          846404 non-null  float64\n",
            " 5   CLOSE        846404 non-null  float64\n",
            " 6   LAST         846404 non-null  float64\n",
            " 7   PREVCLOSE    846404 non-null  float64\n",
            " 8   TOTTRDQTY    846404 non-null  int64  \n",
            " 9   TOTTRDVAL    846404 non-null  float64\n",
            " 10  TIMESTAMP    846404 non-null  object \n",
            " 11  TOTALTRADES  846404 non-null  int64  \n",
            " 12  ISIN         846404 non-null  object \n",
            "dtypes: float64(7), int64(2), object(4)\n",
            "memory usage: 83.9+ MB\n"
          ]
        }
      ]
    },
    {
      "cell_type": "code",
      "source": [
        "data.describe()"
      ],
      "metadata": {
        "colab": {
          "base_uri": "https://localhost:8080/",
          "height": 300
        },
        "id": "z_JZYj7lm-oq",
        "outputId": "55ee6a68-69d4-47ff-9ec4-2016f45d9d37"
      },
      "execution_count": 106,
      "outputs": [
        {
          "output_type": "execute_result",
          "data": {
            "text/plain": [
              "                OPEN           HIGH            LOW          CLOSE  \\\n",
              "count  846404.000000  846404.000000  846404.000000  846404.000000   \n",
              "mean      561.258797     568.679340     553.861861     560.815168   \n",
              "std      2005.760598    2027.159199    1983.412783    2004.576315   \n",
              "min         0.050000       0.050000       0.050000       0.050000   \n",
              "25%        39.900000      40.850000      38.850000      39.750000   \n",
              "50%       139.200000     142.050000     136.150000     138.900000   \n",
              "75%       490.000000     499.550000     481.100000     489.550000   \n",
              "max    119990.000000  119990.000000  119990.000000  119990.000000   \n",
              "\n",
              "                LAST      PREVCLOSE     TOTTRDQTY     TOTTRDVAL   TOTALTRADES  \n",
              "count  846404.000000  846404.000000  8.464040e+05  8.464040e+05  8.464040e+05  \n",
              "mean      560.184430     560.225320  6.983800e+05  1.334592e+08  5.013823e+03  \n",
              "std      2003.900793    2000.362761  4.055630e+06  6.296968e+08  1.490112e+04  \n",
              "min         0.000000       0.050000  1.000000e+00  5.000000e-02  1.000000e+00  \n",
              "25%        39.600000      39.700000  6.628000e+03  6.071941e+05  8.400000e+01  \n",
              "50%       138.450000     138.750000  4.429200e+04  5.321067e+06  6.000000e+02  \n",
              "75%       488.500000     489.150000  2.757322e+05  3.711093e+07  3.028000e+03  \n",
              "max    119990.000000  119990.000000  7.818365e+08  1.426400e+11  1.192900e+06  "
            ],
            "text/html": [
              "\n",
              "  <div id=\"df-006e640d-085a-40e9-8756-34dc6f59a382\" class=\"colab-df-container\">\n",
              "    <div>\n",
              "<style scoped>\n",
              "    .dataframe tbody tr th:only-of-type {\n",
              "        vertical-align: middle;\n",
              "    }\n",
              "\n",
              "    .dataframe tbody tr th {\n",
              "        vertical-align: top;\n",
              "    }\n",
              "\n",
              "    .dataframe thead th {\n",
              "        text-align: right;\n",
              "    }\n",
              "</style>\n",
              "<table border=\"1\" class=\"dataframe\">\n",
              "  <thead>\n",
              "    <tr style=\"text-align: right;\">\n",
              "      <th></th>\n",
              "      <th>OPEN</th>\n",
              "      <th>HIGH</th>\n",
              "      <th>LOW</th>\n",
              "      <th>CLOSE</th>\n",
              "      <th>LAST</th>\n",
              "      <th>PREVCLOSE</th>\n",
              "      <th>TOTTRDQTY</th>\n",
              "      <th>TOTTRDVAL</th>\n",
              "      <th>TOTALTRADES</th>\n",
              "    </tr>\n",
              "  </thead>\n",
              "  <tbody>\n",
              "    <tr>\n",
              "      <th>count</th>\n",
              "      <td>846404.000000</td>\n",
              "      <td>846404.000000</td>\n",
              "      <td>846404.000000</td>\n",
              "      <td>846404.000000</td>\n",
              "      <td>846404.000000</td>\n",
              "      <td>846404.000000</td>\n",
              "      <td>8.464040e+05</td>\n",
              "      <td>8.464040e+05</td>\n",
              "      <td>8.464040e+05</td>\n",
              "    </tr>\n",
              "    <tr>\n",
              "      <th>mean</th>\n",
              "      <td>561.258797</td>\n",
              "      <td>568.679340</td>\n",
              "      <td>553.861861</td>\n",
              "      <td>560.815168</td>\n",
              "      <td>560.184430</td>\n",
              "      <td>560.225320</td>\n",
              "      <td>6.983800e+05</td>\n",
              "      <td>1.334592e+08</td>\n",
              "      <td>5.013823e+03</td>\n",
              "    </tr>\n",
              "    <tr>\n",
              "      <th>std</th>\n",
              "      <td>2005.760598</td>\n",
              "      <td>2027.159199</td>\n",
              "      <td>1983.412783</td>\n",
              "      <td>2004.576315</td>\n",
              "      <td>2003.900793</td>\n",
              "      <td>2000.362761</td>\n",
              "      <td>4.055630e+06</td>\n",
              "      <td>6.296968e+08</td>\n",
              "      <td>1.490112e+04</td>\n",
              "    </tr>\n",
              "    <tr>\n",
              "      <th>min</th>\n",
              "      <td>0.050000</td>\n",
              "      <td>0.050000</td>\n",
              "      <td>0.050000</td>\n",
              "      <td>0.050000</td>\n",
              "      <td>0.000000</td>\n",
              "      <td>0.050000</td>\n",
              "      <td>1.000000e+00</td>\n",
              "      <td>5.000000e-02</td>\n",
              "      <td>1.000000e+00</td>\n",
              "    </tr>\n",
              "    <tr>\n",
              "      <th>25%</th>\n",
              "      <td>39.900000</td>\n",
              "      <td>40.850000</td>\n",
              "      <td>38.850000</td>\n",
              "      <td>39.750000</td>\n",
              "      <td>39.600000</td>\n",
              "      <td>39.700000</td>\n",
              "      <td>6.628000e+03</td>\n",
              "      <td>6.071941e+05</td>\n",
              "      <td>8.400000e+01</td>\n",
              "    </tr>\n",
              "    <tr>\n",
              "      <th>50%</th>\n",
              "      <td>139.200000</td>\n",
              "      <td>142.050000</td>\n",
              "      <td>136.150000</td>\n",
              "      <td>138.900000</td>\n",
              "      <td>138.450000</td>\n",
              "      <td>138.750000</td>\n",
              "      <td>4.429200e+04</td>\n",
              "      <td>5.321067e+06</td>\n",
              "      <td>6.000000e+02</td>\n",
              "    </tr>\n",
              "    <tr>\n",
              "      <th>75%</th>\n",
              "      <td>490.000000</td>\n",
              "      <td>499.550000</td>\n",
              "      <td>481.100000</td>\n",
              "      <td>489.550000</td>\n",
              "      <td>488.500000</td>\n",
              "      <td>489.150000</td>\n",
              "      <td>2.757322e+05</td>\n",
              "      <td>3.711093e+07</td>\n",
              "      <td>3.028000e+03</td>\n",
              "    </tr>\n",
              "    <tr>\n",
              "      <th>max</th>\n",
              "      <td>119990.000000</td>\n",
              "      <td>119990.000000</td>\n",
              "      <td>119990.000000</td>\n",
              "      <td>119990.000000</td>\n",
              "      <td>119990.000000</td>\n",
              "      <td>119990.000000</td>\n",
              "      <td>7.818365e+08</td>\n",
              "      <td>1.426400e+11</td>\n",
              "      <td>1.192900e+06</td>\n",
              "    </tr>\n",
              "  </tbody>\n",
              "</table>\n",
              "</div>\n",
              "    <div class=\"colab-df-buttons\">\n",
              "\n",
              "  <div class=\"colab-df-container\">\n",
              "    <button class=\"colab-df-convert\" onclick=\"convertToInteractive('df-006e640d-085a-40e9-8756-34dc6f59a382')\"\n",
              "            title=\"Convert this dataframe to an interactive table.\"\n",
              "            style=\"display:none;\">\n",
              "\n",
              "  <svg xmlns=\"http://www.w3.org/2000/svg\" height=\"24px\" viewBox=\"0 -960 960 960\">\n",
              "    <path d=\"M120-120v-720h720v720H120Zm60-500h600v-160H180v160Zm220 220h160v-160H400v160Zm0 220h160v-160H400v160ZM180-400h160v-160H180v160Zm440 0h160v-160H620v160ZM180-180h160v-160H180v160Zm440 0h160v-160H620v160Z\"/>\n",
              "  </svg>\n",
              "    </button>\n",
              "\n",
              "  <style>\n",
              "    .colab-df-container {\n",
              "      display:flex;\n",
              "      gap: 12px;\n",
              "    }\n",
              "\n",
              "    .colab-df-convert {\n",
              "      background-color: #E8F0FE;\n",
              "      border: none;\n",
              "      border-radius: 50%;\n",
              "      cursor: pointer;\n",
              "      display: none;\n",
              "      fill: #1967D2;\n",
              "      height: 32px;\n",
              "      padding: 0 0 0 0;\n",
              "      width: 32px;\n",
              "    }\n",
              "\n",
              "    .colab-df-convert:hover {\n",
              "      background-color: #E2EBFA;\n",
              "      box-shadow: 0px 1px 2px rgba(60, 64, 67, 0.3), 0px 1px 3px 1px rgba(60, 64, 67, 0.15);\n",
              "      fill: #174EA6;\n",
              "    }\n",
              "\n",
              "    .colab-df-buttons div {\n",
              "      margin-bottom: 4px;\n",
              "    }\n",
              "\n",
              "    [theme=dark] .colab-df-convert {\n",
              "      background-color: #3B4455;\n",
              "      fill: #D2E3FC;\n",
              "    }\n",
              "\n",
              "    [theme=dark] .colab-df-convert:hover {\n",
              "      background-color: #434B5C;\n",
              "      box-shadow: 0px 1px 3px 1px rgba(0, 0, 0, 0.15);\n",
              "      filter: drop-shadow(0px 1px 2px rgba(0, 0, 0, 0.3));\n",
              "      fill: #FFFFFF;\n",
              "    }\n",
              "  </style>\n",
              "\n",
              "    <script>\n",
              "      const buttonEl =\n",
              "        document.querySelector('#df-006e640d-085a-40e9-8756-34dc6f59a382 button.colab-df-convert');\n",
              "      buttonEl.style.display =\n",
              "        google.colab.kernel.accessAllowed ? 'block' : 'none';\n",
              "\n",
              "      async function convertToInteractive(key) {\n",
              "        const element = document.querySelector('#df-006e640d-085a-40e9-8756-34dc6f59a382');\n",
              "        const dataTable =\n",
              "          await google.colab.kernel.invokeFunction('convertToInteractive',\n",
              "                                                    [key], {});\n",
              "        if (!dataTable) return;\n",
              "\n",
              "        const docLinkHtml = 'Like what you see? Visit the ' +\n",
              "          '<a target=\"_blank\" href=https://colab.research.google.com/notebooks/data_table.ipynb>data table notebook</a>'\n",
              "          + ' to learn more about interactive tables.';\n",
              "        element.innerHTML = '';\n",
              "        dataTable['output_type'] = 'display_data';\n",
              "        await google.colab.output.renderOutput(dataTable, element);\n",
              "        const docLink = document.createElement('div');\n",
              "        docLink.innerHTML = docLinkHtml;\n",
              "        element.appendChild(docLink);\n",
              "      }\n",
              "    </script>\n",
              "  </div>\n",
              "\n",
              "\n",
              "<div id=\"df-f6725346-bf7c-4e0e-beef-ee7fc786f6cc\">\n",
              "  <button class=\"colab-df-quickchart\" onclick=\"quickchart('df-f6725346-bf7c-4e0e-beef-ee7fc786f6cc')\"\n",
              "            title=\"Suggest charts\"\n",
              "            style=\"display:none;\">\n",
              "\n",
              "<svg xmlns=\"http://www.w3.org/2000/svg\" height=\"24px\"viewBox=\"0 0 24 24\"\n",
              "     width=\"24px\">\n",
              "    <g>\n",
              "        <path d=\"M19 3H5c-1.1 0-2 .9-2 2v14c0 1.1.9 2 2 2h14c1.1 0 2-.9 2-2V5c0-1.1-.9-2-2-2zM9 17H7v-7h2v7zm4 0h-2V7h2v10zm4 0h-2v-4h2v4z\"/>\n",
              "    </g>\n",
              "</svg>\n",
              "  </button>\n",
              "\n",
              "<style>\n",
              "  .colab-df-quickchart {\n",
              "      --bg-color: #E8F0FE;\n",
              "      --fill-color: #1967D2;\n",
              "      --hover-bg-color: #E2EBFA;\n",
              "      --hover-fill-color: #174EA6;\n",
              "      --disabled-fill-color: #AAA;\n",
              "      --disabled-bg-color: #DDD;\n",
              "  }\n",
              "\n",
              "  [theme=dark] .colab-df-quickchart {\n",
              "      --bg-color: #3B4455;\n",
              "      --fill-color: #D2E3FC;\n",
              "      --hover-bg-color: #434B5C;\n",
              "      --hover-fill-color: #FFFFFF;\n",
              "      --disabled-bg-color: #3B4455;\n",
              "      --disabled-fill-color: #666;\n",
              "  }\n",
              "\n",
              "  .colab-df-quickchart {\n",
              "    background-color: var(--bg-color);\n",
              "    border: none;\n",
              "    border-radius: 50%;\n",
              "    cursor: pointer;\n",
              "    display: none;\n",
              "    fill: var(--fill-color);\n",
              "    height: 32px;\n",
              "    padding: 0;\n",
              "    width: 32px;\n",
              "  }\n",
              "\n",
              "  .colab-df-quickchart:hover {\n",
              "    background-color: var(--hover-bg-color);\n",
              "    box-shadow: 0 1px 2px rgba(60, 64, 67, 0.3), 0 1px 3px 1px rgba(60, 64, 67, 0.15);\n",
              "    fill: var(--button-hover-fill-color);\n",
              "  }\n",
              "\n",
              "  .colab-df-quickchart-complete:disabled,\n",
              "  .colab-df-quickchart-complete:disabled:hover {\n",
              "    background-color: var(--disabled-bg-color);\n",
              "    fill: var(--disabled-fill-color);\n",
              "    box-shadow: none;\n",
              "  }\n",
              "\n",
              "  .colab-df-spinner {\n",
              "    border: 2px solid var(--fill-color);\n",
              "    border-color: transparent;\n",
              "    border-bottom-color: var(--fill-color);\n",
              "    animation:\n",
              "      spin 1s steps(1) infinite;\n",
              "  }\n",
              "\n",
              "  @keyframes spin {\n",
              "    0% {\n",
              "      border-color: transparent;\n",
              "      border-bottom-color: var(--fill-color);\n",
              "      border-left-color: var(--fill-color);\n",
              "    }\n",
              "    20% {\n",
              "      border-color: transparent;\n",
              "      border-left-color: var(--fill-color);\n",
              "      border-top-color: var(--fill-color);\n",
              "    }\n",
              "    30% {\n",
              "      border-color: transparent;\n",
              "      border-left-color: var(--fill-color);\n",
              "      border-top-color: var(--fill-color);\n",
              "      border-right-color: var(--fill-color);\n",
              "    }\n",
              "    40% {\n",
              "      border-color: transparent;\n",
              "      border-right-color: var(--fill-color);\n",
              "      border-top-color: var(--fill-color);\n",
              "    }\n",
              "    60% {\n",
              "      border-color: transparent;\n",
              "      border-right-color: var(--fill-color);\n",
              "    }\n",
              "    80% {\n",
              "      border-color: transparent;\n",
              "      border-right-color: var(--fill-color);\n",
              "      border-bottom-color: var(--fill-color);\n",
              "    }\n",
              "    90% {\n",
              "      border-color: transparent;\n",
              "      border-bottom-color: var(--fill-color);\n",
              "    }\n",
              "  }\n",
              "</style>\n",
              "\n",
              "  <script>\n",
              "    async function quickchart(key) {\n",
              "      const quickchartButtonEl =\n",
              "        document.querySelector('#' + key + ' button');\n",
              "      quickchartButtonEl.disabled = true;  // To prevent multiple clicks.\n",
              "      quickchartButtonEl.classList.add('colab-df-spinner');\n",
              "      try {\n",
              "        const charts = await google.colab.kernel.invokeFunction(\n",
              "            'suggestCharts', [key], {});\n",
              "      } catch (error) {\n",
              "        console.error('Error during call to suggestCharts:', error);\n",
              "      }\n",
              "      quickchartButtonEl.classList.remove('colab-df-spinner');\n",
              "      quickchartButtonEl.classList.add('colab-df-quickchart-complete');\n",
              "    }\n",
              "    (() => {\n",
              "      let quickchartButtonEl =\n",
              "        document.querySelector('#df-f6725346-bf7c-4e0e-beef-ee7fc786f6cc button');\n",
              "      quickchartButtonEl.style.display =\n",
              "        google.colab.kernel.accessAllowed ? 'block' : 'none';\n",
              "    })();\n",
              "  </script>\n",
              "</div>\n",
              "\n",
              "    </div>\n",
              "  </div>\n"
            ],
            "application/vnd.google.colaboratory.intrinsic+json": {
              "type": "dataframe",
              "summary": "{\n  \"name\": \"data\",\n  \"rows\": 8,\n  \"fields\": [\n    {\n      \"column\": \"OPEN\",\n      \"properties\": {\n        \"dtype\": \"number\",\n        \"std\": 295992.06005196535,\n        \"min\": 0.05,\n        \"max\": 846404.0,\n        \"num_unique_values\": 8,\n        \"samples\": [\n          561.2587967448169,\n          139.2,\n          846404.0\n        ],\n        \"semantic_type\": \"\",\n        \"description\": \"\"\n      }\n    },\n    {\n      \"column\": \"HIGH\",\n      \"properties\": {\n        \"dtype\": \"number\",\n        \"std\": 295989.61853606364,\n        \"min\": 0.05,\n        \"max\": 846404.0,\n        \"num_unique_values\": 8,\n        \"samples\": [\n          568.6793397006629,\n          142.05,\n          846404.0\n        ],\n        \"semantic_type\": \"\",\n        \"description\": \"\"\n      }\n    },\n    {\n      \"column\": \"LOW\",\n      \"properties\": {\n        \"dtype\": \"number\",\n        \"std\": 295994.5346394698,\n        \"min\": 0.05,\n        \"max\": 846404.0,\n        \"num_unique_values\": 8,\n        \"samples\": [\n          553.8618607544386,\n          136.15,\n          846404.0\n        ],\n        \"semantic_type\": \"\",\n        \"description\": \"\"\n      }\n    },\n    {\n      \"column\": \"CLOSE\",\n      \"properties\": {\n        \"dtype\": \"number\",\n        \"std\": 295992.20653290296,\n        \"min\": 0.05,\n        \"max\": 846404.0,\n        \"num_unique_values\": 8,\n        \"samples\": [\n          560.8151677331392,\n          138.9,\n          846404.0\n        ],\n        \"semantic_type\": \"\",\n        \"description\": \"\"\n      }\n    },\n    {\n      \"column\": \"LAST\",\n      \"properties\": {\n        \"dtype\": \"number\",\n        \"std\": 295992.3812861073,\n        \"min\": 0.0,\n        \"max\": 846404.0,\n        \"num_unique_values\": 8,\n        \"samples\": [\n          560.184429575002,\n          138.45,\n          846404.0\n        ],\n        \"semantic_type\": \"\",\n        \"description\": \"\"\n      }\n    },\n    {\n      \"column\": \"PREVCLOSE\",\n      \"properties\": {\n        \"dtype\": \"number\",\n        \"std\": 295992.51827954897,\n        \"min\": 0.05,\n        \"max\": 846404.0,\n        \"num_unique_values\": 8,\n        \"samples\": [\n          560.2253204734385,\n          138.75,\n          846404.0\n        ],\n        \"semantic_type\": \"\",\n        \"description\": \"\"\n      }\n    },\n    {\n      \"column\": \"TOTTRDQTY\",\n      \"properties\": {\n        \"dtype\": \"number\",\n        \"std\": 276124863.9089773,\n        \"min\": 1.0,\n        \"max\": 781836478.0,\n        \"num_unique_values\": 8,\n        \"samples\": [\n          698380.0461434493,\n          44292.0,\n          846404.0\n        ],\n        \"semantic_type\": \"\",\n        \"description\": \"\"\n      }\n    },\n    {\n      \"column\": \"TOTTRDVAL\",\n      \"properties\": {\n        \"dtype\": \"number\",\n        \"std\": 50390549831.2161,\n        \"min\": 0.05,\n        \"max\": 142639995863.65,\n        \"num_unique_values\": 8,\n        \"samples\": [\n          133459225.96088049,\n          5321066.7,\n          846404.0\n        ],\n        \"semantic_type\": \"\",\n        \"description\": \"\"\n      }\n    },\n    {\n      \"column\": \"TOTALTRADES\",\n      \"properties\": {\n        \"dtype\": \"number\",\n        \"std\": 479241.34009868867,\n        \"min\": 1.0,\n        \"max\": 1192900.0,\n        \"num_unique_values\": 8,\n        \"samples\": [\n          5013.823219171932,\n          600.0,\n          846404.0\n        ],\n        \"semantic_type\": \"\",\n        \"description\": \"\"\n      }\n    }\n  ]\n}"
            }
          },
          "metadata": {},
          "execution_count": 106
        }
      ]
    },
    {
      "cell_type": "code",
      "source": [
        "stock_data = data[data['SYMBOL'] == '3IINFOTECH'].copy()\n",
        "stock_data['TIMESTAMP'] = pd.to_datetime(stock_data['TIMESTAMP'])\n",
        "stock_data.sort_values(by='TIMESTAMP', inplace=True)"
      ],
      "metadata": {
        "id": "h7FAMadPkwRT"
      },
      "execution_count": 107,
      "outputs": []
    },
    {
      "cell_type": "code",
      "source": [
        "plt.figure(figsize=(10, 5))\n",
        "plt.plot(stock_data['TIMESTAMP'], stock_data['CLOSE'], label='Closing Price', color='blue')\n",
        "plt.title('Closing Price Trend for 3IINFOTECH')\n",
        "plt.xlabel('Date')\n",
        "plt.ylabel('Closing Price')\n",
        "plt.legend()\n",
        "plt.grid()\n",
        "plt.show()"
      ],
      "metadata": {
        "colab": {
          "base_uri": "https://localhost:8080/",
          "height": 487
        },
        "id": "5g-EysDckwNd",
        "outputId": "c1db82d5-a195-46e9-d2e8-c14d828cad4c"
      },
      "execution_count": 108,
      "outputs": [
        {
          "output_type": "display_data",
          "data": {
            "text/plain": [
              "<Figure size 1000x500 with 1 Axes>"
            ],
            "image/png": "[encoded data removed]"
          },
          "metadata": {}
        }
      ]
    },
    {
      "cell_type": "code",
      "source": [
        "prices = stock_data['CLOSE'].values.reshape(-1, 1)"
      ],
      "metadata": {
        "id": "m5Mp9dIDkwKe"
      },
      "execution_count": 109,
      "outputs": []
    },
    {
      "cell_type": "markdown",
      "source": [
        "###  Apply Scaling"
      ],
      "metadata": {
        "id": "27USbL9zMt5Z"
      }
    },
    {
      "cell_type": "code",
      "source": [
        "close_scaler = MinMaxScaler(feature_range=(0, 1))\n",
        "scaled_close = close_scaler.fit_transform(stock_data[['CLOSE']])\n",
        "#Using Other features\n",
        "features = ['CLOSE', 'OPEN', 'HIGH', 'LOW']\n",
        "scaled_features = scaler.fit_transform(stock_data[features])"
      ],
      "metadata": {
        "id": "w1eox9J4kv7r"
      },
      "execution_count": 110,
      "outputs": []
    },
    {
      "cell_type": "markdown",
      "source": [
        "### Sequences for LSTM"
      ],
      "metadata": {
        "id": "StpwThcrNceK"
      }
    },
    {
      "cell_type": "code",
      "source": [
        "sequence_length = 60\n",
        "X, y = [], []\n",
        "for i in range(sequence_length, len(scaled_close)):\n",
        "    X.append(scaled_features[i-sequence_length:i])  # Use features for input\n",
        "    y.append(scaled_close[i, 0])  # Use 'CLOSE' as the target\n",
        "\n",
        "\n",
        "X, y = np.array(X), np.array(y)"
      ],
      "metadata": {
        "id": "WAawBIPakv35"
      },
      "execution_count": 111,
      "outputs": []
    },
    {
      "cell_type": "markdown",
      "source": [
        "### Split the Data"
      ],
      "metadata": {
        "id": "GFE6JqQ5NjLr"
      }
    },
    {
      "cell_type": "code",
      "source": [
        "train_size = int(0.8 * len(X))\n",
        "X_train, X_test = X[:train_size], X[train_size:]\n",
        "y_train, y_test = y[:train_size], y[train_size:]"
      ],
      "metadata": {
        "id": "slMra-9hlGX_"
      },
      "execution_count": 112,
      "outputs": []
    },
    {
      "cell_type": "markdown",
      "source": [
        " ### Create LSTM model"
      ],
      "metadata": {
        "id": "rM0luEcWNsfq"
      }
    },
    {
      "cell_type": "code",
      "source": [
        "model = tf.keras.Sequential([\n",
        "    tf.keras.layers.Bidirectional(tf.keras.layers.LSTM(128, return_sequences=True, input_shape=(X_train.shape[1], X_train.shape[2]))),\n",
        "    tf.keras.layers.Dropout(0.3),\n",
        "    tf.keras.layers.Bidirectional(tf.keras.layers.LSTM(128)),\n",
        "    tf.keras.layers.Dropout(0.3),\n",
        "    tf.keras.layers.Dense(32, activation='relu', kernel_regularizer=tf.keras.regularizers.l2(0.01)),\n",
        "    tf.keras.layers.Dense(1)\n",
        "])"
      ],
      "metadata": {
        "colab": {
          "base_uri": "https://localhost:8080/"
        },
        "id": "x8a9ehUKlF-h",
        "outputId": "caeb27e5-7d24-48b0-c8da-a01c8e1e3ce9"
      },
      "execution_count": 114,
      "outputs": [
        {
          "output_type": "stream",
          "name": "stderr",
          "text": [
            "/usr/local/lib/python3.11/dist-packages/keras/src/layers/rnn/rnn.py:204: UserWarning: Do not pass an `input_shape`/`input_dim` argument to a layer. When using Sequential models, prefer using an `Input(shape)` object as the first layer in the model instead.\n",
            "  super().__init__(**kwargs)\n"
          ]
        }
      ]
    },
    {
      "cell_type": "code",
      "source": [
        "model.compile(optimizer=tf.keras.optimizers.Adam(learning_rate=0.001),\n",
        "              loss='mean_squared_error')"
      ],
      "metadata": {
        "id": "Lt-2JZe3lSxg"
      },
      "execution_count": 115,
      "outputs": []
    },
    {
      "cell_type": "code",
      "source": [
        "# Train the model with learning rate scheduler\n",
        "lr_scheduler = tf.keras.callbacks.ReduceLROnPlateau(monitor='val_loss', factor=0.5, patience=3, min_lr=1e-6)\n",
        "\n",
        "history = model.fit(X_train, y_train, epochs=50, batch_size=32,\n",
        "                    validation_data=(X_test, y_test),\n",
        "                    callbacks=[lr_scheduler], verbose=1)"
      ],
      "metadata": {
        "colab": {
          "base_uri": "https://localhost:8080/"
        },
        "id": "6UmH7wMrlSoN",
        "outputId": "e38f57c1-51d3-48e2-e928-967624853563"
      },
      "execution_count": 116,
      "outputs": [
        {
          "output_type": "stream",
          "name": "stdout",
          "text": [
            "Epoch 1/50\n",
            "\u001b[1m11/11\u001b[0m \u001b[32m━━━━━━━━━━━━━━━━━━━━\u001b[0m\u001b[37m\u001b[0m \u001b[1m15s\u001b[0m 631ms/step - loss: 0.5848 - val_loss: 0.4904 - learning_rate: 0.0010\n",
            "Epoch 2/50\n",
            "\u001b[1m11/11\u001b[0m \u001b[32m━━━━━━━━━━━━━━━━━━━━\u001b[0m\u001b[37m\u001b[0m \u001b[1m7s\u001b[0m 371ms/step - loss: 0.4559 - val_loss: 0.3949 - learning_rate: 0.0010\n",
            "Epoch 3/50\n",
            "\u001b[1m11/11\u001b[0m \u001b[32m━━━━━━━━━━━━━━━━━━━━\u001b[0m\u001b[37m\u001b[0m \u001b[1m7s\u001b[0m 533ms/step - loss: 0.3658 - val_loss: 0.3148 - learning_rate: 0.0010\n",
            "Epoch 4/50\n",
            "\u001b[1m11/11\u001b[0m \u001b[32m━━━━━━━━━━━━━━━━━━━━\u001b[0m\u001b[37m\u001b[0m \u001b[1m4s\u001b[0m 374ms/step - loss: 0.2887 - val_loss: 0.2505 - learning_rate: 0.0010\n",
            "Epoch 5/50\n",
            "\u001b[1m11/11\u001b[0m \u001b[32m━━━━━━━━━━━━━━━━━━━━\u001b[0m\u001b[37m\u001b[0m \u001b[1m6s\u001b[0m 461ms/step - loss: 0.2269 - val_loss: 0.1978 - learning_rate: 0.0010\n",
            "Epoch 6/50\n",
            "\u001b[1m11/11\u001b[0m \u001b[32m━━━━━━━━━━━━━━━━━━━━\u001b[0m\u001b[37m\u001b[0m \u001b[1m6s\u001b[0m 478ms/step - loss: 0.1775 - val_loss: 0.1561 - learning_rate: 0.0010\n",
            "Epoch 7/50\n",
            "\u001b[1m11/11\u001b[0m \u001b[32m━━━━━━━━━━━━━━━━━━━━\u001b[0m\u001b[37m\u001b[0m \u001b[1m10s\u001b[0m 491ms/step - loss: 0.1393 - val_loss: 0.1230 - learning_rate: 0.0010\n",
            "Epoch 8/50\n",
            "\u001b[1m11/11\u001b[0m \u001b[32m━━━━━━━━━━━━━━━━━━━━\u001b[0m\u001b[37m\u001b[0m \u001b[1m9s\u001b[0m 377ms/step - loss: 0.1076 - val_loss: 0.0969 - learning_rate: 0.0010\n",
            "Epoch 9/50\n",
            "\u001b[1m11/11\u001b[0m \u001b[32m━━━━━━━━━━━━━━━━━━━━\u001b[0m\u001b[37m\u001b[0m \u001b[1m8s\u001b[0m 619ms/step - loss: 0.0826 - val_loss: 0.0768 - learning_rate: 0.0010\n",
            "Epoch 10/50\n",
            "\u001b[1m11/11\u001b[0m \u001b[32m━━━━━━━━━━━━━━━━━━━━\u001b[0m\u001b[37m\u001b[0m \u001b[1m8s\u001b[0m 377ms/step - loss: 0.0637 - val_loss: 0.0610 - learning_rate: 0.0010\n",
            "Epoch 11/50\n",
            "\u001b[1m11/11\u001b[0m \u001b[32m━━━━━━━━━━━━━━━━━━━━\u001b[0m\u001b[37m\u001b[0m \u001b[1m8s\u001b[0m 655ms/step - loss: 0.0491 - val_loss: 0.0481 - learning_rate: 0.0010\n",
            "Epoch 12/50\n",
            "\u001b[1m11/11\u001b[0m \u001b[32m━━━━━━━━━━━━━━━━━━━━\u001b[0m\u001b[37m\u001b[0m \u001b[1m7s\u001b[0m 376ms/step - loss: 0.0375 - val_loss: 0.0393 - learning_rate: 0.0010\n",
            "Epoch 13/50\n",
            "\u001b[1m11/11\u001b[0m \u001b[32m━━━━━━━━━━━━━━━━━━━━\u001b[0m\u001b[37m\u001b[0m \u001b[1m7s\u001b[0m 589ms/step - loss: 0.0295 - val_loss: 0.0310 - learning_rate: 0.0010\n",
            "Epoch 14/50\n",
            "\u001b[1m11/11\u001b[0m \u001b[32m━━━━━━━━━━━━━━━━━━━━\u001b[0m\u001b[37m\u001b[0m \u001b[1m8s\u001b[0m 394ms/step - loss: 0.0240 - val_loss: 0.0251 - learning_rate: 0.0010\n",
            "Epoch 15/50\n",
            "\u001b[1m11/11\u001b[0m \u001b[32m━━━━━━━━━━━━━━━━━━━━\u001b[0m\u001b[37m\u001b[0m \u001b[1m8s\u001b[0m 697ms/step - loss: 0.0181 - val_loss: 0.0236 - learning_rate: 0.0010\n",
            "Epoch 16/50\n",
            "\u001b[1m11/11\u001b[0m \u001b[32m━━━━━━━━━━━━━━━━━━━━\u001b[0m\u001b[37m\u001b[0m \u001b[1m7s\u001b[0m 378ms/step - loss: 0.0155 - val_loss: 0.0206 - learning_rate: 0.0010\n",
            "Epoch 17/50\n",
            "\u001b[1m11/11\u001b[0m \u001b[32m━━━━━━━━━━━━━━━━━━━━\u001b[0m\u001b[37m\u001b[0m \u001b[1m6s\u001b[0m 469ms/step - loss: 0.0127 - val_loss: 0.0176 - learning_rate: 0.0010\n",
            "Epoch 18/50\n",
            "\u001b[1m11/11\u001b[0m \u001b[32m━━━━━━━━━━━━━━━━━━━━\u001b[0m\u001b[37m\u001b[0m \u001b[1m6s\u001b[0m 512ms/step - loss: 0.0105 - val_loss: 0.0147 - learning_rate: 0.0010\n",
            "Epoch 19/50\n",
            "\u001b[1m11/11\u001b[0m \u001b[32m━━━━━━━━━━━━━━━━━━━━\u001b[0m\u001b[37m\u001b[0m \u001b[1m4s\u001b[0m 374ms/step - loss: 0.0087 - val_loss: 0.0132 - learning_rate: 0.0010\n",
            "Epoch 20/50\n",
            "\u001b[1m11/11\u001b[0m \u001b[32m━━━━━━━━━━━━━━━━━━━━\u001b[0m\u001b[37m\u001b[0m \u001b[1m4s\u001b[0m 398ms/step - loss: 0.0076 - val_loss: 0.0131 - learning_rate: 0.0010\n",
            "Epoch 21/50\n",
            "\u001b[1m11/11\u001b[0m \u001b[32m━━━━━━━━━━━━━━━━━━━━\u001b[0m\u001b[37m\u001b[0m \u001b[1m6s\u001b[0m 481ms/step - loss: 0.0066 - val_loss: 0.0124 - learning_rate: 0.0010\n",
            "Epoch 22/50\n",
            "\u001b[1m11/11\u001b[0m \u001b[32m━━━━━━━━━━━━━━━━━━━━\u001b[0m\u001b[37m\u001b[0m \u001b[1m4s\u001b[0m 381ms/step - loss: 0.0059 - val_loss: 0.0100 - learning_rate: 0.0010\n",
            "Epoch 23/50\n",
            "\u001b[1m11/11\u001b[0m \u001b[32m━━━━━━━━━━━━━━━━━━━━\u001b[0m\u001b[37m\u001b[0m \u001b[1m5s\u001b[0m 443ms/step - loss: 0.0064 - val_loss: 0.0106 - learning_rate: 0.0010\n",
            "Epoch 24/50\n",
            "\u001b[1m11/11\u001b[0m \u001b[32m━━━━━━━━━━━━━━━━━━━━\u001b[0m\u001b[37m\u001b[0m \u001b[1m6s\u001b[0m 511ms/step - loss: 0.0054 - val_loss: 0.0115 - learning_rate: 0.0010\n",
            "Epoch 25/50\n",
            "\u001b[1m11/11\u001b[0m \u001b[32m━━━━━━━━━━━━━━━━━━━━\u001b[0m\u001b[37m\u001b[0m \u001b[1m9s\u001b[0m 433ms/step - loss: 0.0059 - val_loss: 0.0113 - learning_rate: 0.0010\n",
            "Epoch 26/50\n",
            "\u001b[1m11/11\u001b[0m \u001b[32m━━━━━━━━━━━━━━━━━━━━\u001b[0m\u001b[37m\u001b[0m \u001b[1m6s\u001b[0m 494ms/step - loss: 0.0050 - val_loss: 0.0100 - learning_rate: 5.0000e-04\n",
            "Epoch 27/50\n",
            "\u001b[1m11/11\u001b[0m \u001b[32m━━━━━━━━━━━━━━━━━━━━\u001b[0m\u001b[37m\u001b[0m \u001b[1m10s\u001b[0m 454ms/step - loss: 0.0038 - val_loss: 0.0088 - learning_rate: 5.0000e-04\n",
            "Epoch 28/50\n",
            "\u001b[1m11/11\u001b[0m \u001b[32m━━━━━━━━━━━━━━━━━━━━\u001b[0m\u001b[37m\u001b[0m \u001b[1m6s\u001b[0m 501ms/step - loss: 0.0048 - val_loss: 0.0093 - learning_rate: 5.0000e-04\n",
            "Epoch 29/50\n",
            "\u001b[1m11/11\u001b[0m \u001b[32m━━━━━━━━━━━━━━━━━━━━\u001b[0m\u001b[37m\u001b[0m \u001b[1m4s\u001b[0m 374ms/step - loss: 0.0037 - val_loss: 0.0090 - learning_rate: 5.0000e-04\n",
            "Epoch 30/50\n",
            "\u001b[1m11/11\u001b[0m \u001b[32m━━━━━━━━━━━━━━━━━━━━\u001b[0m\u001b[37m\u001b[0m \u001b[1m4s\u001b[0m 404ms/step - loss: 0.0041 - val_loss: 0.0093 - learning_rate: 5.0000e-04\n",
            "Epoch 31/50\n",
            "\u001b[1m11/11\u001b[0m \u001b[32m━━━━━━━━━━━━━━━━━━━━\u001b[0m\u001b[37m\u001b[0m \u001b[1m6s\u001b[0m 502ms/step - loss: 0.0041 - val_loss: 0.0088 - learning_rate: 2.5000e-04\n",
            "Epoch 32/50\n",
            "\u001b[1m11/11\u001b[0m \u001b[32m━━━━━━━━━━━━━━━━━━━━\u001b[0m\u001b[37m\u001b[0m \u001b[1m4s\u001b[0m 373ms/step - loss: 0.0041 - val_loss: 0.0086 - learning_rate: 2.5000e-04\n",
            "Epoch 33/50\n",
            "\u001b[1m11/11\u001b[0m \u001b[32m━━━━━━━━━━━━━━━━━━━━\u001b[0m\u001b[37m\u001b[0m \u001b[1m6s\u001b[0m 482ms/step - loss: 0.0036 - val_loss: 0.0089 - learning_rate: 2.5000e-04\n",
            "Epoch 34/50\n",
            "\u001b[1m11/11\u001b[0m \u001b[32m━━━━━━━━━━━━━━━━━━━━\u001b[0m\u001b[37m\u001b[0m \u001b[1m9s\u001b[0m 370ms/step - loss: 0.0039 - val_loss: 0.0084 - learning_rate: 2.5000e-04\n",
            "Epoch 35/50\n",
            "\u001b[1m11/11\u001b[0m \u001b[32m━━━━━━━━━━━━━━━━━━━━\u001b[0m\u001b[37m\u001b[0m \u001b[1m6s\u001b[0m 520ms/step - loss: 0.0034 - val_loss: 0.0087 - learning_rate: 2.5000e-04\n",
            "Epoch 36/50\n",
            "\u001b[1m11/11\u001b[0m \u001b[32m━━━━━━━━━━━━━━━━━━━━\u001b[0m\u001b[37m\u001b[0m \u001b[1m9s\u001b[0m 375ms/step - loss: 0.0036 - val_loss: 0.0086 - learning_rate: 2.5000e-04\n",
            "Epoch 37/50\n",
            "\u001b[1m11/11\u001b[0m \u001b[32m━━━━━━━━━━━━━━━━━━━━\u001b[0m\u001b[37m\u001b[0m \u001b[1m8s\u001b[0m 618ms/step - loss: 0.0037 - val_loss: 0.0084 - learning_rate: 2.5000e-04\n",
            "Epoch 38/50\n",
            "\u001b[1m11/11\u001b[0m \u001b[32m━━━━━━━━━━━━━━━━━━━━\u001b[0m\u001b[37m\u001b[0m \u001b[1m8s\u001b[0m 372ms/step - loss: 0.0037 - val_loss: 0.0086 - learning_rate: 1.2500e-04\n",
            "Epoch 39/50\n",
            "\u001b[1m11/11\u001b[0m \u001b[32m━━━━━━━━━━━━━━━━━━━━\u001b[0m\u001b[37m\u001b[0m \u001b[1m8s\u001b[0m 615ms/step - loss: 0.0037 - val_loss: 0.0082 - learning_rate: 1.2500e-04\n",
            "Epoch 40/50\n",
            "\u001b[1m11/11\u001b[0m \u001b[32m━━━━━━━━━━━━━━━━━━━━\u001b[0m\u001b[37m\u001b[0m \u001b[1m8s\u001b[0m 381ms/step - loss: 0.0036 - val_loss: 0.0086 - learning_rate: 1.2500e-04\n",
            "Epoch 41/50\n",
            "\u001b[1m11/11\u001b[0m \u001b[32m━━━━━━━━━━━━━━━━━━━━\u001b[0m\u001b[37m\u001b[0m \u001b[1m7s\u001b[0m 593ms/step - loss: 0.0029 - val_loss: 0.0084 - learning_rate: 1.2500e-04\n",
            "Epoch 42/50\n",
            "\u001b[1m11/11\u001b[0m \u001b[32m━━━━━━━━━━━━━━━━━━━━\u001b[0m\u001b[37m\u001b[0m \u001b[1m8s\u001b[0m 372ms/step - loss: 0.0036 - val_loss: 0.0085 - learning_rate: 1.2500e-04\n",
            "Epoch 43/50\n",
            "\u001b[1m11/11\u001b[0m \u001b[32m━━━━━━━━━━━━━━━━━━━━\u001b[0m\u001b[37m\u001b[0m \u001b[1m8s\u001b[0m 622ms/step - loss: 0.0038 - val_loss: 0.0082 - learning_rate: 6.2500e-05\n",
            "Epoch 44/50\n",
            "\u001b[1m11/11\u001b[0m \u001b[32m━━━━━━━━━━━━━━━━━━━━\u001b[0m\u001b[37m\u001b[0m \u001b[1m11s\u001b[0m 668ms/step - loss: 0.0033 - val_loss: 0.0082 - learning_rate: 6.2500e-05\n",
            "Epoch 45/50\n",
            "\u001b[1m11/11\u001b[0m \u001b[32m━━━━━━━━━━━━━━━━━━━━\u001b[0m\u001b[37m\u001b[0m \u001b[1m7s\u001b[0m 374ms/step - loss: 0.0038 - val_loss: 0.0084 - learning_rate: 6.2500e-05\n",
            "Epoch 46/50\n",
            "\u001b[1m11/11\u001b[0m \u001b[32m━━━━━━━━━━━━━━━━━━━━\u001b[0m\u001b[37m\u001b[0m \u001b[1m5s\u001b[0m 398ms/step - loss: 0.0029 - val_loss: 0.0084 - learning_rate: 3.1250e-05\n",
            "Epoch 47/50\n",
            "\u001b[1m11/11\u001b[0m \u001b[32m━━━━━━━━━━━━━━━━━━━━\u001b[0m\u001b[37m\u001b[0m \u001b[1m6s\u001b[0m 510ms/step - loss: 0.0038 - val_loss: 0.0083 - learning_rate: 3.1250e-05\n",
            "Epoch 48/50\n",
            "\u001b[1m11/11\u001b[0m \u001b[32m━━━━━━━━━━━━━━━━━━━━\u001b[0m\u001b[37m\u001b[0m \u001b[1m9s\u001b[0m 427ms/step - loss: 0.0034 - val_loss: 0.0084 - learning_rate: 3.1250e-05\n",
            "Epoch 49/50\n",
            "\u001b[1m11/11\u001b[0m \u001b[32m━━━━━━━━━━━━━━━━━━━━\u001b[0m\u001b[37m\u001b[0m \u001b[1m6s\u001b[0m 505ms/step - loss: 0.0033 - val_loss: 0.0084 - learning_rate: 1.5625e-05\n",
            "Epoch 50/50\n",
            "\u001b[1m11/11\u001b[0m \u001b[32m━━━━━━━━━━━━━━━━━━━━\u001b[0m\u001b[37m\u001b[0m \u001b[1m9s\u001b[0m 444ms/step - loss: 0.0031 - val_loss: 0.0083 - learning_rate: 1.5625e-05\n"
          ]
        }
      ]
    },
    {
      "cell_type": "code",
      "source": [
        "predicted_prices = model.predict(X_test)\n",
        "predicted_prices = close_scaler.inverse_transform(predicted_prices.reshape(-1, 1))\n",
        "actual_prices = close_scaler.inverse_transform(y_test.reshape(-1, 1))"
      ],
      "metadata": {
        "colab": {
          "base_uri": "https://localhost:8080/"
        },
        "id": "ipmOVdVelSbc",
        "outputId": "d150c395-fbc8-462e-8d81-74ec931c3112"
      },
      "execution_count": 117,
      "outputs": [
        {
          "output_type": "stream",
          "name": "stdout",
          "text": [
            "\u001b[1m3/3\u001b[0m \u001b[32m━━━━━━━━━━━━━━━━━━━━\u001b[0m\u001b[37m\u001b[0m \u001b[1m4s\u001b[0m 450ms/step\n"
          ]
        }
      ]
    },
    {
      "cell_type": "markdown",
      "source": [
        "### Evaluate the model"
      ],
      "metadata": {
        "id": "V31hF85HOGV2"
      }
    },
    {
      "cell_type": "code",
      "source": [
        "mse = mean_squared_error(actual_prices, predicted_prices)\n",
        "rmse = np.sqrt(mse)\n",
        "r2 = r2_score(actual_prices, predicted_prices)"
      ],
      "metadata": {
        "id": "tHgaNzaolfWQ"
      },
      "execution_count": 118,
      "outputs": []
    },
    {
      "cell_type": "code",
      "source": [
        "print(f\"MSE: {mse:.4f}\")\n",
        "print(f\"RMSE: {rmse:.4f}\")\n",
        "print(f\"R²: {r2:.4f}\")"
      ],
      "metadata": {
        "colab": {
          "base_uri": "https://localhost:8080/"
        },
        "id": "g6L9xOv7lfKE",
        "outputId": "4331bbd6-42b6-4e54-d6a1-d340b288fa23"
      },
      "execution_count": 119,
      "outputs": [
        {
          "output_type": "stream",
          "name": "stdout",
          "text": [
            "MSE: 0.1427\n",
            "RMSE: 0.3778\n",
            "R²: 0.6998\n"
          ]
        }
      ]
    },
    {
      "cell_type": "markdown",
      "source": [
        "### Actual Vs Predicted"
      ],
      "metadata": {
        "id": "vj7hZ3LAOeuy"
      }
    },
    {
      "cell_type": "code",
      "source": [
        "plt.figure(figsize=(8, 4))\n",
        "plt.plot(actual_prices, color='blue', label='Actual Prices')\n",
        "plt.plot(predicted_prices, color='red', label='Predicted Prices')\n",
        "plt.title('Actual vs Predicted Stock Prices')\n",
        "plt.xlabel('Time')\n",
        "plt.ylabel('Price')\n",
        "plt.legend()\n",
        "plt.show()"
      ],
      "metadata": {
        "colab": {
          "base_uri": "https://localhost:8080/",
          "height": 410
        },
        "id": "shn3MHzWle56",
        "outputId": "8df485b4-60c8-4fcc-ad21-37200dd877af"
      },
      "execution_count": 120,
      "outputs": [
        {
          "output_type": "display_data",
          "data": {
            "text/plain": [
              "<Figure size 800x400 with 1 Axes>"
            ],
            "image/png": "[encoded data removed]"
          },
          "metadata": {}
        }
      ]
    },
    {
      "cell_type": "markdown",
      "source": [
        "## Prediction"
      ],
      "metadata": {
        "id": "k9diz-1kOrp6"
      }
    },
    {
      "cell_type": "code",
      "source": [
        "future_sequence = scaled_features[-sequence_length:]  # Last 60 days\n",
        "future_sequence = future_sequence.reshape(1, sequence_length,scaled_features.shape[1])\n",
        "future_price = model.predict(future_sequence)\n",
        "future_price = close_scaler.inverse_transform(future_price)\n",
        "\n",
        "print(f\"Predicted future price: {future_price[0, 0]:.2f}\")"
      ],
      "metadata": {
        "colab": {
          "base_uri": "https://localhost:8080/"
        },
        "id": "gj6Ucogqlo9X",
        "outputId": "b60db8dd-dfc8-4aca-858b-027902f0f4d4"
      },
      "execution_count": 121,
      "outputs": [
        {
          "output_type": "stream",
          "name": "stdout",
          "text": [
            "\u001b[1m1/1\u001b[0m \u001b[32m━━━━━━━━━━━━━━━━━━━━\u001b[0m\u001b[37m\u001b[0m \u001b[1m0s\u001b[0m 44ms/step\n",
            "Predicted future price: 6.88\n"
          ]
        }
      ]
    },
    {
      "cell_type": "code",
      "source": [],
      "metadata": {
        "id": "sbDEQztFuK61"
      },
      "execution_count": 121,
      "outputs": []
    }
  ]
}